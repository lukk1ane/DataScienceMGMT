{
 "cells": [
  {
   "cell_type": "code",
   "id": "initial_id",
   "metadata": {
    "collapsed": true,
    "ExecuteTime": {
     "end_time": "2025-10-27T19:38:55.229007Z",
     "start_time": "2025-10-27T19:38:55.224042Z"
    }
   },
   "source": "print(\"Homework 2\")",
   "outputs": [
    {
     "name": "stdout",
     "output_type": "stream",
     "text": [
      "Homework 2\n"
     ]
    }
   ],
   "execution_count": 92
  },
  {
   "metadata": {
    "ExecuteTime": {
     "end_time": "2025-10-27T15:01:46.566753Z",
     "start_time": "2025-10-27T15:01:46.559742Z"
    }
   },
   "cell_type": "code",
   "source": [
    "listi = [1,2,3,4]\n",
    "listi.append(7)\n",
    "print(listi)\n",
    "listi.insert(2,8)\n",
    "print(listi)\n",
    "listi.extend([23,24,25])\n",
    "print(listi)"
   ],
   "id": "66334c9b32548811",
   "outputs": [
    {
     "name": "stdout",
     "output_type": "stream",
     "text": [
      "[1, 2, 3, 4, 7]\n",
      "[1, 2, 8, 3, 4, 7]\n",
      "[1, 2, 8, 3, 4, 7, 23, 24, 25]\n"
     ]
    }
   ],
   "execution_count": 6
  },
  {
   "metadata": {
    "ExecuteTime": {
     "end_time": "2025-10-27T15:24:01.065691Z",
     "start_time": "2025-10-27T15:24:01.059594Z"
    }
   },
   "cell_type": "code",
   "source": [
    "tek = tuple(\"Tekls\")\n",
    "print(tek)"
   ],
   "id": "9766b5c2d788a489",
   "outputs": [
    {
     "name": "stdout",
     "output_type": "stream",
     "text": [
      "('T', 'e', 'k', 'l', 's')\n"
     ]
    }
   ],
   "execution_count": 7
  },
  {
   "metadata": {
    "ExecuteTime": {
     "end_time": "2025-10-27T15:35:36.475666Z",
     "start_time": "2025-10-27T15:35:36.469180Z"
    }
   },
   "cell_type": "code",
   "source": [
    "tup = (1,2,3,4,5,6,7,3,2,3)\n",
    "print(tup.index(5))\n",
    "print(tup.count(3))"
   ],
   "id": "f7a454316672ccab",
   "outputs": [
    {
     "name": "stdout",
     "output_type": "stream",
     "text": [
      "4\n",
      "3\n"
     ]
    }
   ],
   "execution_count": 10
  },
  {
   "metadata": {
    "ExecuteTime": {
     "end_time": "2025-10-27T16:21:28.404700Z",
     "start_time": "2025-10-27T16:21:28.397350Z"
    }
   },
   "cell_type": "code",
   "source": [
    "def greet(name, greeting = \"Hello\"):\n",
    "    print(f\"{greeting}, {name}\")\n",
    "greet(\"Alice\")\n",
    "greet(\"Bob\", \"howdy\")"
   ],
   "id": "3b21dc487758aca9",
   "outputs": [
    {
     "name": "stdout",
     "output_type": "stream",
     "text": [
      "Hello, Alice\n",
      "howdy, Bob\n"
     ]
    }
   ],
   "execution_count": 18
  },
  {
   "metadata": {
    "ExecuteTime": {
     "end_time": "2025-10-27T16:35:12.952750Z",
     "start_time": "2025-10-27T16:35:12.915037Z"
    }
   },
   "cell_type": "code",
   "source": [
    "def countdown(num):\n",
    "    while num > 0:\n",
    "        yield num\n",
    "        num -=1\n",
    "for i in countdown(5):\n",
    "     print(i)"
   ],
   "id": "2e78e3022fce00f8",
   "outputs": [
    {
     "name": "stdout",
     "output_type": "stream",
     "text": [
      "5\n",
      "4\n",
      "3\n",
      "2\n",
      "1\n"
     ]
    }
   ],
   "execution_count": 21
  },
  {
   "metadata": {
    "ExecuteTime": {
     "end_time": "2025-10-27T18:00:21.664195Z",
     "start_time": "2025-10-27T18:00:21.655760Z"
    }
   },
   "cell_type": "code",
   "source": [
    "import numpy as np\n",
    "a = np.arange(25).reshape(5,5)\n",
    "print(a)\n",
    "print(a[[0,1,2,3], [1,2,3,4]])\n",
    "\n",
    "mask = a%3==0\n",
    "print(a[mask])"
   ],
   "id": "e37b0c6bc946e6d2",
   "outputs": [
    {
     "name": "stdout",
     "output_type": "stream",
     "text": [
      "[[ 0  1  2  3  4]\n",
      " [ 5  6  7  8  9]\n",
      " [10 11 12 13 14]\n",
      " [15 16 17 18 19]\n",
      " [20 21 22 23 24]]\n",
      "[ 1  7 13 19]\n",
      "[ 0  3  6  9 12 15 18 21 24]\n"
     ]
    }
   ],
   "execution_count": 29
  },
  {
   "metadata": {
    "ExecuteTime": {
     "end_time": "2025-10-27T18:01:57.501680Z",
     "start_time": "2025-10-27T18:01:57.494322Z"
    }
   },
   "cell_type": "code",
   "source": [
    "a = np.array([0, 5.0, 2, 3])\n",
    "print(a.dtype)"
   ],
   "id": "8996d8291913cf67",
   "outputs": [
    {
     "name": "stdout",
     "output_type": "stream",
     "text": [
      "float64\n"
     ]
    }
   ],
   "execution_count": 30
  },
  {
   "metadata": {
    "ExecuteTime": {
     "end_time": "2025-10-27T18:04:33.095558Z",
     "start_time": "2025-10-27T18:04:33.090093Z"
    }
   },
   "cell_type": "code",
   "source": [
    "b = np.arange(1,24,2, dtype=None\n",
    "              )\n",
    "print(b)"
   ],
   "id": "ddacc23b45d3719e",
   "outputs": [
    {
     "name": "stdout",
     "output_type": "stream",
     "text": [
      "[ 1  3  5  7  9 11 13 15 17 19 21 23]\n"
     ]
    }
   ],
   "execution_count": 34
  },
  {
   "metadata": {
    "ExecuteTime": {
     "end_time": "2025-10-27T18:24:38.567334Z",
     "start_time": "2025-10-27T18:24:38.559405Z"
    }
   },
   "cell_type": "code",
   "source": [
    " abbq = np.arange(-15, 15).reshape(5, 6) ** 2\n",
    " print(abbq)\n",
    "\n",
    " print(abbq.max(axis=-1))\n",
    " print(abbq.argmin())"
   ],
   "id": "7a91b98bdca50d80",
   "outputs": [
    {
     "name": "stdout",
     "output_type": "stream",
     "text": [
      "[[225 196 169 144 121 100]\n",
      " [ 81  64  49  36  25  16]\n",
      " [  9   4   1   0   1   4]\n",
      " [  9  16  25  36  49  64]\n",
      " [ 81 100 121 144 169 196]]\n",
      "[225  81   9  64 196]\n",
      "15\n"
     ]
    }
   ],
   "execution_count": 46
  },
  {
   "metadata": {
    "ExecuteTime": {
     "end_time": "2025-10-27T18:36:10.723155Z",
     "start_time": "2025-10-27T18:36:10.716963Z"
    }
   },
   "cell_type": "code",
   "source": [
    "#Task1\n",
    "\n",
    "AR1 = np.arange(1,11)\n",
    "print(AR1)\n",
    "SUM = np.sum(AR1)\n",
    "print(SUM)\n",
    "\n",
    "PROD = np.prod(AR1)\n",
    "print(PROD)"
   ],
   "id": "b4fa97e218b99f49",
   "outputs": [
    {
     "name": "stdout",
     "output_type": "stream",
     "text": [
      "[ 1  2  3  4  5  6  7  8  9 10]\n",
      "55\n",
      "3628800\n"
     ]
    }
   ],
   "execution_count": 51
  },
  {
   "metadata": {
    "ExecuteTime": {
     "end_time": "2025-10-27T18:40:07.029417Z",
     "start_time": "2025-10-27T18:40:07.023312Z"
    }
   },
   "cell_type": "code",
   "source": [
    "#Task2\n",
    "AR2 = np.arange(1,21)\n",
    "print(AR2)\n",
    "print(AR2[3:8])"
   ],
   "id": "9b0cf5e13d256484",
   "outputs": [
    {
     "name": "stdout",
     "output_type": "stream",
     "text": [
      "[ 1  2  3  4  5  6  7  8  9 10 11 12 13 14 15 16 17 18 19 20]\n",
      "[4 5 6 7 8]\n"
     ]
    }
   ],
   "execution_count": 52
  },
  {
   "metadata": {
    "ExecuteTime": {
     "end_time": "2025-10-27T18:45:32.663212Z",
     "start_time": "2025-10-27T18:45:32.657301Z"
    }
   },
   "cell_type": "code",
   "source": [
    "#Task3\n",
    "AR3 = np.arange(25).reshape(5,5)\n",
    "print(AR3)\n",
    "print(\"__________\")\n",
    "print(AR3[:2,-2:])"
   ],
   "id": "d3f88086eb7554cf",
   "outputs": [
    {
     "name": "stdout",
     "output_type": "stream",
     "text": [
      "[[ 0  1  2  3  4]\n",
      " [ 5  6  7  8  9]\n",
      " [10 11 12 13 14]\n",
      " [15 16 17 18 19]\n",
      " [20 21 22 23 24]]\n",
      "__________\n",
      "[[3 4]\n",
      " [8 9]]\n"
     ]
    }
   ],
   "execution_count": 57
  },
  {
   "metadata": {
    "ExecuteTime": {
     "end_time": "2025-10-27T18:55:05.809119Z",
     "start_time": "2025-10-27T18:55:05.770504Z"
    }
   },
   "cell_type": "code",
   "source": [
    "#TASK4\n",
    "ar1 = np.array([1,2,3,4])\n",
    "print(ar1)\n",
    "ar2 = np.array([2,4,6,8])\n",
    "print(ar2)\n",
    "\n",
    "ADD = ar1 + ar2\n",
    "print(ADD)\n",
    "MULTIP = ar1 * ar2\n",
    "print(MULTIP)\n",
    "SIN = np.sin(ar2)\n",
    "print(SIN)"
   ],
   "id": "fd0da15c0a788db4",
   "outputs": [
    {
     "name": "stdout",
     "output_type": "stream",
     "text": [
      "[1 2 3 4]\n",
      "[2 4 6 8]\n",
      "[ 3  6  9 12]\n",
      "[ 2  8 18 32]\n",
      "[ 0.90929743 -0.7568025  -0.2794155   0.98935825]\n"
     ]
    }
   ],
   "execution_count": 61
  },
  {
   "metadata": {
    "ExecuteTime": {
     "end_time": "2025-10-27T19:02:58.381069Z",
     "start_time": "2025-10-27T19:02:58.373589Z"
    }
   },
   "cell_type": "code",
   "source": [
    "#TASK5\n",
    "\n",
    "AR5 = np.random.randint(0, 50, 20)\n",
    "print(AR5)\n",
    "\n",
    "mask = (AR5>25) & (AR5<40)\n",
    "print(AR5[mask])"
   ],
   "id": "9af27a1b58c141d6",
   "outputs": [
    {
     "name": "stdout",
     "output_type": "stream",
     "text": [
      "[48 38 35 28 32 47 40 35 22 49 49  4  3 32  2 39 45  5 12 30]\n",
      "[38 35 28 32 35 32 39 30]\n"
     ]
    }
   ],
   "execution_count": 63
  },
  {
   "metadata": {
    "ExecuteTime": {
     "end_time": "2025-10-27T19:23:12.606835Z",
     "start_time": "2025-10-27T19:23:12.600018Z"
    }
   },
   "cell_type": "code",
   "source": [
    "#TASK6\n",
    "AR6 = np.arange(25).reshape(5,5)\n",
    "print(AR6)\n",
    "\n",
    "print(\"====================\")\n",
    "np.fill_diagonal(AR6,0)\n",
    "print(AR6)\n",
    "print(\"====================\")\n",
    "print(AR6*2)\n"
   ],
   "id": "dd4b12cea0d823fe",
   "outputs": [
    {
     "name": "stdout",
     "output_type": "stream",
     "text": [
      "[[ 0  1  2  3  4]\n",
      " [ 5  6  7  8  9]\n",
      " [10 11 12 13 14]\n",
      " [15 16 17 18 19]\n",
      " [20 21 22 23 24]]\n",
      "====================\n",
      "[[ 0  1  2  3  4]\n",
      " [ 5  0  7  8  9]\n",
      " [10 11  0 13 14]\n",
      " [15 16 17  0 19]\n",
      " [20 21 22 23  0]]\n",
      "====================\n",
      "[[ 0  2  4  6  8]\n",
      " [10  0 14 16 18]\n",
      " [20 22  0 26 28]\n",
      " [30 32 34  0 38]\n",
      " [40 42 44 46  0]]\n",
      "[[ 0  1  2  3  4]\n",
      " [ 5  0  7  8  9]\n",
      " [10 11  0 13 14]\n",
      " [15 16 17  0 19]\n",
      " [20 21 22 23  0]]\n"
     ]
    }
   ],
   "execution_count": 87
  },
  {
   "metadata": {
    "ExecuteTime": {
     "end_time": "2025-10-27T19:24:37.409999Z",
     "start_time": "2025-10-27T19:24:37.403878Z"
    }
   },
   "cell_type": "code",
   "source": [
    "#TASK7\n",
    "AR7 = np.arange(9).reshape(3,3)\n",
    "print(AR7)\n",
    "print(AR7[1])\n",
    "print(AR7[:,:2])\n",
    "#OR\n",
    "print(AR7[1,:-1])"
   ],
   "id": "38b8afee8fec5c22",
   "outputs": [
    {
     "name": "stdout",
     "output_type": "stream",
     "text": [
      "[[0 1 2]\n",
      " [3 4 5]\n",
      " [6 7 8]]\n",
      "[3 4 5]\n",
      "[[0 1]\n",
      " [3 4]\n",
      " [6 7]]\n",
      "[3 4]\n"
     ]
    }
   ],
   "execution_count": 88
  },
  {
   "metadata": {
    "ExecuteTime": {
     "end_time": "2025-10-27T19:21:42.109205Z",
     "start_time": "2025-10-27T19:21:42.102941Z"
    }
   },
   "cell_type": "code",
   "source": [
    "#TASK8\n",
    "AR8 = np.array([[1, 2, 3],\n",
    "                [4, 5, 6]])\n",
    "\n",
    "print(AR8)\n",
    "AR8_Transposed = AR8.T\n",
    "print(AR8_Transposed)"
   ],
   "id": "c65f566d8974e030",
   "outputs": [
    {
     "name": "stdout",
     "output_type": "stream",
     "text": [
      "[[1 2 3]\n",
      " [4 5 6]]\n",
      "[[1 4]\n",
      " [2 5]\n",
      " [3 6]]\n"
     ]
    }
   ],
   "execution_count": 86
  },
  {
   "metadata": {
    "ExecuteTime": {
     "end_time": "2025-10-27T19:29:31.591176Z",
     "start_time": "2025-10-27T19:29:31.583959Z"
    }
   },
   "cell_type": "code",
   "source": [
    "#TASK9\n",
    "\n",
    "arr_3x3 = np.array([[1, 2, 3],\n",
    "                    [4, 5, 6],\n",
    "                    [7, 8, 9]])\n",
    "\n",
    "arr_1x3 = np.array([10, 20, 30])\n",
    "result = arr_3x3 + arr_1x3\n",
    "\n",
    "print(arr_3x3)\n",
    "print(\"====================\")\n",
    "print(arr_1x3)\n",
    "print(\"====================\")\n",
    "print(\"\\nResult after Broadcasting Addition:\")\n",
    "print(result)\n"
   ],
   "id": "8c511eef36d167a0",
   "outputs": [
    {
     "name": "stdout",
     "output_type": "stream",
     "text": [
      "[[1 2 3]\n",
      " [4 5 6]\n",
      " [7 8 9]]\n",
      "====================\n",
      "[10 20 30]\n",
      "====================\n",
      "\n",
      "Result after Broadcasting Addition:\n",
      "[[11 22 33]\n",
      " [14 25 36]\n",
      " [17 28 39]]\n"
     ]
    }
   ],
   "execution_count": 91
  },
  {
   "metadata": {},
   "cell_type": "code",
   "outputs": [],
   "execution_count": null,
   "source": [
    "#TASK10\n",
    "arr = np.arange(16).reshape(4, 4)\n",
    "\n",
    "row_indices = [0, 2, 3]\n",
    "col_indices = [1, 3, 2]\n",
    "\n",
    "result = arr[row_indices, col_indices]\n",
    "\n",
    "print(\"Original Array:\")\n",
    "print(arr)\n",
    "\n",
    "print(\"\\nExtracted Elements:\")\n",
    "print(result)\n"
   ],
   "id": "21dace7d95a08879"
  }
 ],
 "metadata": {
  "kernelspec": {
   "display_name": "Python 3",
   "language": "python",
   "name": "python3"
  },
  "language_info": {
   "codemirror_mode": {
    "name": "ipython",
    "version": 2
   },
   "file_extension": ".py",
   "mimetype": "text/x-python",
   "name": "python",
   "nbconvert_exporter": "python",
   "pygments_lexer": "ipython2",
   "version": "2.7.6"
  }
 },
 "nbformat": 4,
 "nbformat_minor": 5
}
